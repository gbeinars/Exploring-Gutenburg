{
 "cells": [
  {
   "cell_type": "markdown",
   "metadata": {},
   "source": [
    "#### 1. *Data Wrangling With Python*: Activity 9, page 294"
   ]
  },
  {
   "cell_type": "code",
   "execution_count": 1,
   "metadata": {},
   "outputs": [],
   "source": [
    "# import required libraries\n",
    "\n",
    "import urllib.request, urllib.parse, urllib.error # to read XML data from internet\n",
    "import requests # API to make requests\n",
    "from bs4 import BeautifulSoup # HTML parser package\n",
    "import ssl # to check certificate\n",
    "import re # RegEx module"
   ]
  },
  {
   "cell_type": "code",
   "execution_count": 2,
   "metadata": {},
   "outputs": [],
   "source": [
    "# Check SSL certificate\n",
    "\n",
    "cert = ssl.create_default_context()\n",
    "cert.check_hostname = False\n",
    "cert.verify_mode = ssl.CERT_NONE"
   ]
  },
  {
   "cell_type": "code",
   "execution_count": 3,
   "metadata": {},
   "outputs": [
    {
     "data": {
      "text/plain": [
       "requests.models.Response"
      ]
     },
     "execution_count": 3,
     "metadata": {},
     "output_type": "execute_result"
    }
   ],
   "source": [
    "# Read HTML from URL by assigning url as string\n",
    "# Use requests library and get method to get response\n",
    "# The response is a model data structure of requests library\n",
    "\n",
    "url = 'https://www.gutenberg.org/browse/scores/top'\n",
    "response = requests.get(url)\n",
    "type(response)"
   ]
  },
  {
   "cell_type": "code",
   "execution_count": 4,
   "metadata": {},
   "outputs": [],
   "source": [
    "# Create a function to check status of web request\n",
    "# 200 code status means the request is successful\n",
    "# while the other code results have different failure \n",
    "# descriptions/meanings.\n",
    "# The response is passed to the function\n",
    "\n",
    "def status_check(r):\n",
    "    if r.status_code==200:\n",
    "        print(\"Success!\")\n",
    "        return 1\n",
    "    else:\n",
    "        print(\"Failed!\")\n",
    "        return -1\n"
   ]
  },
  {
   "cell_type": "code",
   "execution_count": 5,
   "metadata": {},
   "outputs": [
    {
     "data": {
      "text/plain": [
       "'UTF-8'"
      ]
     },
     "execution_count": 5,
     "metadata": {},
     "output_type": "execute_result"
    }
   ],
   "source": [
    "# Use function to check encoding by passing in repsonse\n",
    "# The response is UTF-8 character encoding scheme\n",
    "\n",
    "def encoding_check(r):\n",
    "    return (r.encoding)\n",
    "\n",
    "encoding_check(response)"
   ]
  },
  {
   "cell_type": "code",
   "execution_count": 6,
   "metadata": {},
   "outputs": [
    {
     "data": {
      "text/plain": [
       "str"
      ]
     },
     "execution_count": 6,
     "metadata": {},
     "output_type": "execute_result"
    }
   ],
   "source": [
    "# Use function to decode the contents of the response \n",
    "# Check that the content type is string\n",
    "\n",
    "def decode_content(r,encoding):\n",
    "    return (r.content.decode(encoding))\n",
    "contents = decode_content(response, encoding_check(response))\n",
    "type(contents)"
   ]
  },
  {
   "cell_type": "code",
   "execution_count": 7,
   "metadata": {},
   "outputs": [],
   "source": [
    "# Pass the entire HTML string to BeautifulSoup for parsing\n",
    "# Use html.parser because the string is HTML content\n",
    "\n",
    "soup = BeautifulSoup(contents, 'html.parser')"
   ]
  },
  {
   "cell_type": "code",
   "execution_count": 8,
   "metadata": {},
   "outputs": [
    {
     "data": {
      "text/plain": [
       "['/wiki/Main_Page',\n",
       " '/catalog/',\n",
       " '/ebooks/',\n",
       " '/browse/recent/last1',\n",
       " '/browse/scores/top',\n",
       " '/wiki/Gutenberg:Offline_Catalogs',\n",
       " '/catalog/world/mybookmarks',\n",
       " '/wiki/Main_Page',\n",
       " 'https://www.paypal.com/xclick/business=donate%40gutenberg.org&item_name=Donation+to+Project+Gutenberg',\n",
       " '/wiki/Gutenberg:Project_Gutenberg_Needs_Your_Donation',\n",
       " 'http://www.ibiblio.org',\n",
       " 'http://www.pgdp.net/',\n",
       " 'pretty-pictures',\n",
       " '#books-last1',\n",
       " '#authors-last1',\n",
       " '#books-last7',\n",
       " '#authors-last7',\n",
       " '#books-last30',\n",
       " '#authors-last30',\n",
       " '/ebooks/1342',\n",
       " '/ebooks/11',\n",
       " '/ebooks/25525',\n",
       " '/ebooks/1635',\n",
       " '/ebooks/1661',\n",
       " '/ebooks/2701',\n",
       " '/ebooks/74',\n",
       " '/ebooks/1952',\n",
       " '/ebooks/98',\n",
       " '/ebooks/62740',\n",
       " '/ebooks/46']"
      ]
     },
     "execution_count": 8,
     "metadata": {},
     "output_type": "execute_result"
    }
   ],
   "source": [
    "# Create an empty list to hold the href tags\n",
    "# href tags store hyperlinks\n",
    "\n",
    "href_tags = []\n",
    "\n",
    "# Find all href tags and add to empty list created\n",
    "for link in soup.find_all('a'):\n",
    "    href_tags.append(link.get('href'))\n",
    "    \n",
    "# print first 30 elements of the list\n",
    "href_tags[:30]"
   ]
  },
  {
   "cell_type": "code",
   "execution_count": 9,
   "metadata": {},
   "outputs": [
    {
     "data": {
      "text/plain": [
       "['/ebooks/1342',\n",
       " '/ebooks/11',\n",
       " '/ebooks/25525',\n",
       " '/ebooks/1635',\n",
       " '/ebooks/1661',\n",
       " '/ebooks/2701',\n",
       " '/ebooks/74',\n",
       " '/ebooks/1952',\n",
       " '/ebooks/98',\n",
       " '/ebooks/62740',\n",
       " '/ebooks/46',\n",
       " '/ebooks/76',\n",
       " '/ebooks/1080',\n",
       " '/ebooks/84',\n",
       " '/ebooks/5200',\n",
       " '/ebooks/514',\n",
       " '/ebooks/1184',\n",
       " '/ebooks/2591',\n",
       " '/ebooks/205',\n",
       " '/ebooks/2600',\n",
       " '/ebooks/2542',\n",
       " '/ebooks/62739',\n",
       " '/ebooks/120',\n",
       " '/ebooks/62741',\n",
       " '/ebooks/174',\n",
       " '/ebooks/4300',\n",
       " '/ebooks/345',\n",
       " '/ebooks/1232',\n",
       " '/ebooks/45',\n",
       " '/ebooks/16',\n",
       " '/ebooks/158',\n",
       " '/ebooks/408',\n",
       " '/ebooks/43',\n",
       " '/ebooks/16328',\n",
       " '/ebooks/62738',\n",
       " '/ebooks/844',\n",
       " '/ebooks/1260',\n",
       " '/ebooks/5740',\n",
       " '/ebooks/1497',\n",
       " '/ebooks/58975',\n",
       " '/ebooks/6130',\n",
       " '/ebooks/1727',\n",
       " '/ebooks/1400',\n",
       " '/ebooks/58585',\n",
       " '/ebooks/2554',\n",
       " '/ebooks/42108',\n",
       " '/ebooks/203',\n",
       " '/ebooks/730',\n",
       " '/ebooks/36',\n",
       " '/ebooks/19033',\n",
       " '/ebooks/55',\n",
       " '/ebooks/147',\n",
       " '/ebooks/6087',\n",
       " '/ebooks/768',\n",
       " '/ebooks/62734',\n",
       " '/ebooks/219',\n",
       " '/ebooks/135',\n",
       " '/ebooks/1998',\n",
       " '/ebooks/28054',\n",
       " '/ebooks/244',\n",
       " '/ebooks/996',\n",
       " '/ebooks/902',\n",
       " '/ebooks/376',\n",
       " '/ebooks/27827',\n",
       " '/ebooks/113',\n",
       " '/ebooks/4363',\n",
       " '/ebooks/25717',\n",
       " '/ebooks/1019',\n",
       " '/ebooks/1399',\n",
       " '/ebooks/2814',\n",
       " '/ebooks/148',\n",
       " '/ebooks/766',\n",
       " '/ebooks/33283',\n",
       " '/ebooks/215',\n",
       " '/ebooks/62745',\n",
       " '/ebooks/8800',\n",
       " '/ebooks/2680',\n",
       " '/ebooks/3600',\n",
       " '/ebooks/2852',\n",
       " '/ebooks/160',\n",
       " '/ebooks/161',\n",
       " '/ebooks/25344',\n",
       " '/ebooks/1250',\n",
       " '/ebooks/62744',\n",
       " '/ebooks/2500',\n",
       " '/ebooks/28860',\n",
       " '/ebooks/100',\n",
       " '/ebooks/3825',\n",
       " '/ebooks/3207',\n",
       " '/ebooks/236',\n",
       " '/ebooks/39353',\n",
       " '/ebooks/62742',\n",
       " '/ebooks/62730',\n",
       " '/ebooks/12',\n",
       " '/ebooks/1228',\n",
       " '/ebooks/521',\n",
       " '/ebooks/62729',\n",
       " '/ebooks/62731',\n",
       " '/ebooks/863',\n",
       " '/ebooks/30254']"
      ]
     },
     "execution_count": 9,
     "metadata": {},
     "output_type": "execute_result"
    }
   ],
   "source": [
    "href_tags[19:119]"
   ]
  },
  {
   "cell_type": "code",
   "execution_count": 10,
   "metadata": {},
   "outputs": [
    {
     "name": "stdout",
     "output_type": "stream",
     "text": [
      "\n",
      "Below are the file numbers for the top 100 ebooks on Gutenberg.\n",
      "----------------------------------------------------------------------\n",
      "[1342, 11, 25525, 1635, 1661, 2701, 74, 1952, 98, 62740, 46, 76, 1080, 84, 5200, 514, 1184, 2591, 205, 2600, 2542, 62739, 120, 62741, 174, 4300, 345, 1232, 45, 16, 158, 408, 43, 16328, 62738, 844, 1260, 5740, 1497, 58975, 6130, 1727, 1400, 58585, 2554, 42108, 203, 730, 36, 19033, 55, 147, 6087, 768, 62734, 219, 135, 1998, 28054, 244, 996, 902, 376, 27827, 113, 4363, 25717, 1019, 1399, 2814, 148, 766, 33283, 215, 62745, 8800, 2680, 3600, 2852, 160, 161, 25344, 1250, 62744, 2500, 28860, 100, 3825, 3207, 236, 39353, 62742, 62730, 12, 1228, 521, 62729, 62731, 863, 30254]\n"
     ]
    }
   ],
   "source": [
    "# Create empty list for numerical digits\n",
    "numeric = []\n",
    "\n",
    "# We'll use indices 19 to 119 because that is where we have numbers\n",
    "# in the links\n",
    "# For each link in href_tags list, the link will be added and stripped\n",
    "# of the text in the link\n",
    "for i in range (19, 119):\n",
    "    link = href_tags[i]\n",
    "    link = link.strip()\n",
    "    \n",
    "    # RegEx to find numerical digits in each link\n",
    "    n = re.findall('[0-9]+', link)\n",
    "    \n",
    "    # Add numerical digits as integers to empty list, numeric\n",
    "    if len(n) == 1:\n",
    "        numeric.append(int(n[0]))\n",
    "        \n",
    "print(\"\\nBelow are the file numbers for the top 100 ebooks on Gutenberg.\\n\" + '-' * 70)\n",
    "print(numeric)"
   ]
  },
  {
   "cell_type": "code",
   "execution_count": 11,
   "metadata": {},
   "outputs": [
    {
     "name": "stdout",
     "output_type": "stream",
     "text": [
      "\n",
      "\n",
      "\n",
      "\n",
      "\n",
      "\n",
      "\n",
      "\n",
      "\n",
      " \n",
      "Top 100 - Project Gutenberg\n",
      "\n",
      "\n",
      "\n",
      "\n",
      "\n",
      "\n",
      "\n",
      "\n",
      "Online Book Catalog\n",
      "=> \n",
      "\n",
      "\n",
      "\n",
      " Book  Search\n",
      "-- Recent  Books\n",
      "-- Top  100\n",
      "-- Offline Catalogs\n",
      "-- My Bookmarks\n",
      "\n",
      "\n",
      "Main Page\n",
      "\n",
      "\n",
      "\n",
      "\n",
      "Project Gutenberg needs your donation! \n",
      "        More Info\n",
      "\n",
      "\n",
      "\n",
      "\n",
      "\n",
      "\n",
      "\n",
      "\n",
      "Did you know that you can help us produce ebooks\n",
      "by proof-reading just one page a day?\n",
      "Go to: Distributed Proofreaders\n",
      "\n",
      "\n",
      "\n",
      "Top 100\n",
      "\n",
      "\n",
      "To determine the ranking we count the times each file gets downloaded.\n",
      "Both HTTP and FTP transfers are counted.\n",
      "Only transfers from ibiblio.org are counted as we have no access to our mirrors log files.\n",
      "Multiple downloads from the same IP address on the same day count as one download.\n",
      "IP addresses that download more than 100 files a day are considered\n",
      "robots and are not considered.\n",
      "Books made out of multiple files like most audio books are counted\n",
      "if any file is downloaded.\n",
      "\n",
      "Downloaded Books\n",
      "2020-07-24152476\n",
      "last 7 days1176983\n",
      "last 30 days5364986\n",
      "\n",
      "Pretty Pictures\n",
      "\n",
      "Top 100 EBooks yesterday —\n",
      "  Top 100 Authors yesterday —\n",
      "  Top 100 EBooks last 7 days —\n",
      "  Top 100 Authors last 7 days —\n",
      "  Top 100 EBooks last 30 days —\n",
      "  Top 100 Authors last 30 days\n",
      "\n",
      "Top 100 EBooks yesterday\n",
      "\n",
      "Pride and Prejudice by Jane Austen (1373)\n",
      "Alice's Adventures in Wonderland by Lewis Carroll (964)\n",
      "The Works of Edgar Allan Poe, The Raven Edition by Edgar Allan Poe (744)\n",
      "Ion by Plato (685)\n",
      "The Adventures of Sherlock Holmes by Arthur Conan Doyle (662)\n",
      "Moby Dick; Or, The Whale by Herman Melville (648)\n",
      "The Adventures of Tom Sawyer by Mark Twain (561)\n",
      "The Yellow Wallpaper by Charlotte Perkins Gilman (494)\n",
      "A Tale of Two Cities by Charles Dickens (464)\n",
      "Walker of the Secret Service by Melville Davisson Post (437)\n",
      "A Christmas Carol in Prose; Being a Ghost Story of Christmas by Charles Dickens (433)\n",
      "Adventures of Huckleberry Finn by Mark Twain (431)\n",
      "A Modest Proposal by Jonathan Swift (426)\n",
      "Frankenstein; Or, The Modern Prometheus by Mary Wollstonecraft Shelley (424)\n",
      "Metamorphosis by Franz Kafka (422)\n",
      "Little Women by Louisa May Alcott (415)\n",
      "The Coun\n"
     ]
    }
   ],
   "source": [
    "# .text method is used to print first 2000 characters in order\n",
    "# to see what soup object's text looks like\n",
    "\n",
    "print(soup.text[:2000])"
   ]
  },
  {
   "cell_type": "code",
   "execution_count": 12,
   "metadata": {},
   "outputs": [
    {
     "name": "stdout",
     "output_type": "stream",
     "text": [
      "Pride and Prejudice by Jane Austen \n",
      "Alice\n",
      "The Works of Edgar Allan Poe\n",
      "Ion by Plato \n",
      "The Adventures of Sherlock Holmes by Arthur Conan Doyle \n",
      "Moby Dick\n",
      "The Adventures of Tom Sawyer by Mark Twain \n",
      "The Yellow Wallpaper by Charlotte Perkins Gilman \n",
      "A Tale of Two Cities by Charles Dickens \n",
      "Walker of the Secret Service by Melville Davisson Post \n",
      "A Christmas Carol in Prose\n",
      "Adventures of Huckleberry Finn by Mark Twain \n",
      "A Modest Proposal by Jonathan Swift \n",
      "Frankenstein\n",
      "Metamorphosis by Franz Kafka \n",
      "Little Women by Louisa May Alcott \n",
      "The Count of Monte Cristo\n",
      "Grimms\n",
      "Walden\n",
      "War and Peace by graf Leo Tolstoy \n",
      "Et dukkehjem\n",
      "King Leopold\n",
      "Treasure Island by Robert Louis Stevenson \n",
      "The Jim Crow Car\n",
      "The Picture of Dorian Gray by Oscar Wilde \n",
      "Ulysses by James Joyce \n",
      "Dracula by Bram Stoker \n",
      "Il Principe\n",
      "Anne of Green Gables by L\n",
      "Peter Pan by J\n",
      "Emma by Jane Austen \n",
      "The Souls of Black Folk by W\n",
      "The Strange Case of Dr\n",
      "Beowulf\n",
      "London as seen by Charles Dana Gibson by Charles Dana Gibson \n",
      "The Importance of Being Earnest\n",
      "Jane Eyre\n",
      "Tractatus Logico\n",
      "The Republic by Plato \n",
      "Index of Project Gutenberg Works on Black History by Various \n",
      "The Iliad by Homer \n",
      "The Odyssey by Homer \n",
      "Great Expectations by Charles Dickens \n",
      "The Prophet by Kahlil Gibran \n",
      "Prestuplenie i nakazanie\n",
      "The Slang Dictionary\n",
      "Uncle Tom\n",
      "Oliver Twist by Charles Dickens \n",
      "The War of the Worlds by H\n",
      "Alice\n",
      "The Wonderful Wizard of Oz by L\n",
      "Common Sense by Thomas Paine \n",
      "The Vampyre\n",
      "Wuthering Heights by Emily Bront\n",
      "The Daughter of a Soldier\n",
      "Heart of Darkness by Joseph Conrad \n",
      "Les Mis\n",
      "Also sprach Zarathustra\n",
      "The Brothers Karamazov by Fyodor Dostoyevsky \n",
      "A Study in Scarlet by Arthur Conan Doyle \n",
      "Don Quixote by Miguel de Cervantes Saavedra \n",
      "The Happy Prince\n",
      "A Journal of the Plague Year by Daniel Defoe \n",
      "The Kama Sutra of Vatsyayana by Vatsyayana \n",
      "The Secret Garden by Frances Hodgson Burnett \n",
      "Beyond Good and Evil by Friedrich Wilhelm Nietzsche \n",
      "The History of the Decline and Fall of the Roman Empire by Edward Gibbon \n",
      "Poems by Currer\n",
      "Anna Karenina by graf Leo Tolstoy \n",
      "Dubliners by James Joyce \n",
      "The Autobiography of Benjamin Franklin by Benjamin Franklin \n",
      "David Copperfield by Charles Dickens \n",
      "Calculus Made Easy by Silvanus P\n",
      "The Call of the Wild by Jack London \n",
      "Dissertation on the Gipseys by Heinrich Moritz Gottlieb Grellmann \n",
      "An Index of The Divine Comedy by Dante by Dante Alighieri \n",
      "Meditations by Emperor of Rome Marcus Aurelius \n",
      "Essays of Michel de Montaigne \n",
      "The Hound of the Baskervilles by Arthur Conan Doyle \n",
      "The Awakening\n",
      "Sense and Sensibility by Jane Austen \n",
      "The Scarlet Letter by Nathaniel Hawthorne \n",
      "Anthem by Ayn Rand \n",
      "The Glebe \n",
      "Siddhartha by Hermann Hesse \n",
      "The Memoirs\n",
      "The Complete Works of William Shakespeare by William Shakespeare \n",
      "Pygmalion by Bernard Shaw \n",
      "Leviathan by Thomas Hobbes \n",
      "The Jungle Book by Rudyard Kipling \n",
      "Encyclopaedia Britannica\n",
      "Ludwig Van Beethoven by Franz Hoffmann \n",
      "Babes of the Empire\n",
      "Through the Looking\n",
      "On the origin of species by Charles Darwin \n",
      "The Life and Adventures of Robinson Crusoe by Daniel Defoe \n",
      "Aeroplane Construction and Operation \n",
      "The Lands of the Tamed Turk\n",
      "The Mysterious Affair at Styles by Agatha Christie \n",
      "The Romance of Lust\n"
     ]
    }
   ],
   "source": [
    "# Create empty list for names of top 100 eBooks\n",
    "names = []\n",
    "\n",
    "# Start index will point at text specified\n",
    "# Splitlines method of soup.text is used to split out lines of text\n",
    "\n",
    "start = soup.text.splitlines().index('Top 100 EBooks yesterday')\n",
    "\n",
    "# Use splitlines and loop to add strings of next 100 lines to empty list\n",
    "for i in range(100):\n",
    "    names.append(soup.text.splitlines()[start+2+i])\n",
    "\n",
    "# Create empty list for titles\n",
    "titles = []\n",
    "\n",
    "# Use RegEx and find all to find name strings from soup object\n",
    "# and add to empty list.  Match and span used to find indices\n",
    "for i in range(100):\n",
    "    id1, id2 = re.match('^[a-zA-Z ]*', names[i]).span()\n",
    "    titles.append(names[i][id1:id2])\n",
    "\n",
    "# Print list of titles\n",
    "for a in titles:\n",
    "    print(a)"
   ]
  },
  {
   "cell_type": "markdown",
   "metadata": {},
   "source": [
    "#### 2. *Data Wrangling with Python*: Activity 10, page 295"
   ]
  },
  {
   "cell_type": "code",
   "execution_count": 13,
   "metadata": {},
   "outputs": [],
   "source": [
    "import json # module for reading json file"
   ]
  },
  {
   "cell_type": "code",
   "execution_count": 14,
   "metadata": {},
   "outputs": [],
   "source": [
    "# Load secret API key from JSON file\n",
    "# use json.loads to read the file and store as json_data\n",
    "\n",
    "json_file = 'APIkeyupdate.json'\n",
    "json_data = json.loads(open(json_file).read())"
   ]
  },
  {
   "cell_type": "code",
   "execution_count": 15,
   "metadata": {},
   "outputs": [
    {
     "data": {
      "text/plain": [
       "dict"
      ]
     },
     "execution_count": 15,
     "metadata": {},
     "output_type": "execute_result"
    }
   ],
   "source": [
    "# Check data type to confirm dictionary\n",
    "\n",
    "type(json_data)"
   ]
  },
  {
   "cell_type": "code",
   "execution_count": 16,
   "metadata": {},
   "outputs": [],
   "source": [
    "# Open the json file and assign api key to variable\n",
    "\n",
    "with open('APIkeyupdate.json') as data:\n",
    "    keys = json.load(data)\n",
    "    omdbapi = '7f3f0d1e'"
   ]
  },
  {
   "cell_type": "code",
   "execution_count": 17,
   "metadata": {},
   "outputs": [],
   "source": [
    "# Assign OBDb portal as a string to a variable\n",
    "\n",
    "service_url = 'http://www.omdbapi.com/?'"
   ]
  },
  {
   "cell_type": "code",
   "execution_count": 18,
   "metadata": {},
   "outputs": [],
   "source": [
    "# Create variable with secret api key\n",
    "\n",
    "api_key = '&apikey=' + omdbapi"
   ]
  },
  {
   "cell_type": "code",
   "execution_count": 19,
   "metadata": {},
   "outputs": [
    {
     "name": "stdout",
     "output_type": "stream",
     "text": [
      "dict_keys(['Title', 'Year', 'Rated', 'Released', 'Runtime', 'Genre', 'Director', 'Writer', 'Actors', 'Plot', 'Language', 'Country', 'Awards', 'Poster', 'Ratings', 'Metascore', 'imdbRating', 'imdbVotes', 'imdbID', 'Type', 'DVD', 'BoxOffice', 'Production', 'Website', 'Response'])\n"
     ]
    }
   ],
   "source": [
    "# To obtain the keys of data\n",
    "\n",
    "print(json_data.keys())"
   ]
  },
  {
   "cell_type": "code",
   "execution_count": 20,
   "metadata": {},
   "outputs": [],
   "source": [
    "# Create function to print movie data from JSON file \n",
    "# Create list of dict keys in json_data\n",
    "# Add dashed lines on top and bottom for visual appearance\n",
    "\n",
    "def print_json(json_data):\n",
    "    list_keys = ['Title', 'Year', 'Rated', 'Released', 'Runtime', 'Genre',\n",
    "                'Director', 'Writer', 'Actors', 'Plot', 'Language', 'Country',\n",
    "                'Awards', 'Poster', 'Ratings', 'Metascore', 'imdbRating', \n",
    "                 'imdbVotes', 'imdbID']\n",
    "    print(\"-\"*50)\n",
    "    for k in list_keys:\n",
    "        if k in list(json_data.keys()):\n",
    "            print(f\"{k}: {json_data[k]}\")\n",
    "    print(\"-\"*50)"
   ]
  },
  {
   "cell_type": "code",
   "execution_count": 21,
   "metadata": {},
   "outputs": [],
   "source": [
    "# function to clean poster url by splitting at dot\n",
    "# open and read the post url and save location\n",
    "# save poster image and safely close\n",
    "\n",
    "def save_poster(json_data):\n",
    "    import os\n",
    "    title = json_data['Title']\n",
    "    poster_url = json_data['Poster']\n",
    "    poster_file_extension = poster_url.split('.')[-1]\n",
    "    poster_data = urllib.request.urlopen(poster_url).read()\n",
    "    save_location = os.getcwd()+'\\\\'+'Posters'+'\\\\'\n",
    "    if not os.path.isdir(save_location):\n",
    "        os.mkdir(save_location)\n",
    "    file_name = save_location+str(title)+'.'+poster_file_extension\n",
    "    f = open(file_name,'wb')\n",
    "    f.write(poster_data)\n",
    "    f.close"
   ]
  },
  {
   "cell_type": "code",
   "execution_count": 22,
   "metadata": {},
   "outputs": [],
   "source": [
    "# function to search for movie title, if the response is true\n",
    "# (successful), the info pulled will be printed and if a poster is \n",
    "# available, save_poster will be called to save the poster\n",
    "# error handling is incorporated to print the error if the read is \n",
    "# not successful\n",
    "# If the url cannot be accessed, try/except used and error will print\n",
    "\n",
    "def search_movie(title):\n",
    "    try:\n",
    "        url = service_url + urllib.parse.urlencode({'t':str(title)})+api_key\n",
    "        print(f'Retrieving the data of \"{title}\" now...')\n",
    "        print(url)\n",
    "        uh = urllib.request.urlopen(url)\n",
    "        data1 = uh.read()\n",
    "        json_data=json.loads(data1)\n",
    "        \n",
    "        if json_data['Response']=='True':\n",
    "            print_json(json_data)\n",
    "            if json_data['Poster']!='N/A':\n",
    "                save_poster(json_data)\n",
    "        else:\n",
    "            print(\"Error encountered: \", json_data['Error'])\n",
    "            \n",
    "    except urllib.error.URLError as e:\n",
    "        print(f\"Error: {e.reason}\")"
   ]
  },
  {
   "cell_type": "code",
   "execution_count": 23,
   "metadata": {},
   "outputs": [
    {
     "name": "stdout",
     "output_type": "stream",
     "text": [
      "Retrieving the data of \"Titanic\" now...\n",
      "http://www.omdbapi.com/?t=Titanic&apikey=7f3f0d1e\n",
      "Error: Unauthorized\n"
     ]
    }
   ],
   "source": [
    "# Search titanic to test search_movie function\n",
    "\n",
    "search_movie('Titanic')"
   ]
  },
  {
   "cell_type": "code",
   "execution_count": 24,
   "metadata": {},
   "outputs": [
    {
     "name": "stdout",
     "output_type": "stream",
     "text": [
      "Retrieving the data of \"Random Error\" now...\n",
      "http://www.omdbapi.com/?t=Random+Error&apikey=7f3f0d1e\n",
      "Error encountered:  Movie not found!\n"
     ]
    }
   ],
   "source": [
    "# Check that try/except loop for error catching works\n",
    "\n",
    "search_movie(\"Random Error\")"
   ]
  },
  {
   "cell_type": "code",
   "execution_count": 25,
   "metadata": {},
   "outputs": [
    {
     "name": "stdout",
     "output_type": "stream",
     "text": [
      "Retrieving the data of \"Homeward Bound\" now...\n",
      "http://www.omdbapi.com/?t=Homeward+Bound&apikey=7f3f0d1e\n",
      "--------------------------------------------------\n",
      "Title: Homeward Bound\n",
      "Year: 1980\n",
      "Rated: N/A\n",
      "Released: 19 Nov 1980\n",
      "Runtime: 120 min\n",
      "Genre: Drama\n",
      "Director: Richard Michaels\n",
      "Writer: Burt Prelutsky\n",
      "Actors: Moosie Drier, David Soul, Barnard Hughes, Judith Penrod\n",
      "Plot: A divorced man and his estranged, incurably ill teenage son get together for a final summer vacation and they end up at the divorce's estranged father's vineyard where they try to reconsile their differences.\n",
      "Language: English\n",
      "Country: USA\n",
      "Awards: Nominated for 2 Primetime Emmys. Another 1 win.\n",
      "Poster: https://m.media-amazon.com/images/M/MV5BYzk0ZTg4ZDUtZjE4MS00YzdkLTliMjMtOTk1YTNkNmU4M2IxXkEyXkFqcGdeQXVyMTk5MjAyMjM@._V1_SX300.jpg\n",
      "Ratings: [{'Source': 'Internet Movie Database', 'Value': '7.1/10'}]\n",
      "Metascore: N/A\n",
      "imdbRating: 7.1\n",
      "imdbVotes: 106\n",
      "imdbID: tt0080885\n",
      "--------------------------------------------------\n"
     ]
    }
   ],
   "source": [
    "search_movie(\"Homeward Bound\")"
   ]
  },
  {
   "cell_type": "markdown",
   "metadata": {},
   "source": [
    "#### 3. Twitter API Data Pull"
   ]
  },
  {
   "cell_type": "code",
   "execution_count": 26,
   "metadata": {},
   "outputs": [],
   "source": [
    "# import twitter library and enter credentials\n",
    "\n",
    "import twitter\n",
    "\n",
    "api = twitter.Api(consumer_key = 'NLUFv80aoAaPrhnzDtAhKWYRT', \n",
    "                 consumer_secret = 'qVThaLNNos39nYnPv4ptfdGyiuPuSvPmiJopCK53JSXFYHcEmR',\n",
    "                 access_token_key = '1284257084436033536-Cj0SteG6G3GWZbvTKuKoMXAaAfDrQS',\n",
    "                 access_token_secret = 'Kg2MGLMinplvGmeLgBtGFUQV6E2DpYAWSWpSLOQyqBOgS')"
   ]
  },
  {
   "cell_type": "code",
   "execution_count": 27,
   "metadata": {},
   "outputs": [
    {
     "name": "stdout",
     "output_type": "stream",
     "text": [
      "{\"created_at\": \"Fri Jul 17 22:42:15 +0000 2020\", \"default_profile\": true, \"default_profile_image\": true, \"id\": 1284257084436033536, \"id_str\": \"1284257084436033536\", \"name\": \"Gabrielle Beinars\", \"profile_background_color\": \"F5F8FA\", \"profile_image_url\": \"http://abs.twimg.com/sticky/default_profile_images/default_profile_normal.png\", \"profile_image_url_https\": \"https://abs.twimg.com/sticky/default_profile_images/default_profile_normal.png\", \"profile_link_color\": \"1DA1F2\", \"profile_sidebar_border_color\": \"C0DEED\", \"profile_sidebar_fill_color\": \"DDEEF6\", \"profile_text_color\": \"333333\", \"profile_use_background_image\": true, \"screen_name\": \"GabrielleBeina1\"}\n"
     ]
    }
   ],
   "source": [
    "# print credential verification\n",
    "\n",
    "print(api.VerifyCredentials())"
   ]
  },
  {
   "cell_type": "code",
   "execution_count": 28,
   "metadata": {},
   "outputs": [
    {
     "data": {
      "text/plain": [
       "[Status(ID=1287018075276095489, ScreenName=KirkDBorne, Created=Sat Jul 25 13:33:15 +0000 2020, Text='One of the best-known books on #Statistics is now free for DOWNLOAD: Larry Wasserman’s \"All of Statistics\"\\n\\nhttps://t.co/E4NTk5d2hm \\n\\n#abdsc #BigData #DataScience #MachineLearning #AI #Probability #StatisticalLiteracy #Mathematics #DataMining https://t.co/GjTWDTp279'),\n",
       " Status(ID=1286905510243917824, ScreenName=stpiindia, Created=Sat Jul 25 06:05:57 +0000 2020, Text='#BigData can enable teachers for a more credible grading while brining precision, quality, and agility in the evaluation process. Explore how #STPINEURON is nurturing #startups to build similar solutions: https://t.co/vrqWlteqAI. #STPICoEs #STPIINDIA #STPIINCUBATION #GrowWithSTPI https://t.co/wNAw4u5u4U'),\n",
       " Status(ID=1287017683935002625, ScreenName=KirkDBorne, Created=Sat Jul 25 13:31:42 +0000 2020, Text='Download FREE #Probability eBook PDF: https://t.co/leXnVPtLdG\\n———\\n++Check out the top #Statistics Books — current best-sellers: https://t.co/McgRVO2fNe\\n——————\\n#BigData #StatisticalLiteracy #MachineLearning #DataScience #DataMining #Mathematics #AI #DataLiteracy #abdsc https://t.co/feQ3GfcGBq'),\n",
       " Status(ID=1287394817232834560, ScreenName=anand_rkrishnan, Created=Sun Jul 26 14:30:17 +0000 2020, Text='Top 4 tips to buy an email list.https://t.co/Jokbcb7hiL #datalists #IT #ITES #MFG #SME #SOFTWARE #Tech #startups #ERP #iiot #bigdata #cloud #mobility #hrtech #hr #events #CIO #CEO #CMO #emaillist'),\n",
       " Status(ID=1287394768826306561, ScreenName=eraser, Created=Sun Jul 26 14:30:06 +0000 2020, Text='How Blockchain will Rebuild the World ... God ! ... #Infographic #Blockchain #education #future #transhumanism #tech #technology #world #SharingEconomy #AI #IA #BIgData #industry40 https://t.co/G8vqqNfO2D #smartcontracts https://t.co/kVsbVB6vkX    #crypto #cryptocurrency https://t.co/2sV0Ws4Fh5')]"
      ]
     },
     "execution_count": 28,
     "metadata": {},
     "output_type": "execute_result"
    }
   ],
   "source": [
    "# Use GetSearch to search tweets and pull data using search term 'big data'\n",
    "# pull top five tweets\n",
    "\n",
    "api.GetSearch('bigdata', count=5)"
   ]
  },
  {
   "cell_type": "markdown",
   "metadata": {},
   "source": [
    "#### 4. Create 3 visualizations using the provided data sets. "
   ]
  },
  {
   "cell_type": "code",
   "execution_count": 45,
   "metadata": {},
   "outputs": [],
   "source": [
    "import pandas as pd\n",
    "import seaborn as sns\n",
    "import matplotlib.pyplot as plt"
   ]
  },
  {
   "cell_type": "code",
   "execution_count": 30,
   "metadata": {
    "scrolled": true
   },
   "outputs": [],
   "source": [
    "# load in data from csv file as DataFrame\n",
    "\n",
    "df = pd.read_csv(\"multiTimeline.csv\", header=1)"
   ]
  },
  {
   "cell_type": "code",
   "execution_count": 31,
   "metadata": {},
   "outputs": [
    {
     "data": {
      "text/html": [
       "<div>\n",
       "<style scoped>\n",
       "    .dataframe tbody tr th:only-of-type {\n",
       "        vertical-align: middle;\n",
       "    }\n",
       "\n",
       "    .dataframe tbody tr th {\n",
       "        vertical-align: top;\n",
       "    }\n",
       "\n",
       "    .dataframe thead th {\n",
       "        text-align: right;\n",
       "    }\n",
       "</style>\n",
       "<table border=\"1\" class=\"dataframe\">\n",
       "  <thead>\n",
       "    <tr style=\"text-align: right;\">\n",
       "      <th></th>\n",
       "      <th>Month</th>\n",
       "      <th>Cupcake: (Worldwide)</th>\n",
       "    </tr>\n",
       "  </thead>\n",
       "  <tbody>\n",
       "    <tr>\n",
       "      <td>0</td>\n",
       "      <td>2004-01</td>\n",
       "      <td>5</td>\n",
       "    </tr>\n",
       "    <tr>\n",
       "      <td>1</td>\n",
       "      <td>2004-02</td>\n",
       "      <td>6</td>\n",
       "    </tr>\n",
       "    <tr>\n",
       "      <td>2</td>\n",
       "      <td>2004-03</td>\n",
       "      <td>6</td>\n",
       "    </tr>\n",
       "    <tr>\n",
       "      <td>3</td>\n",
       "      <td>2004-04</td>\n",
       "      <td>5</td>\n",
       "    </tr>\n",
       "    <tr>\n",
       "      <td>4</td>\n",
       "      <td>2004-05</td>\n",
       "      <td>6</td>\n",
       "    </tr>\n",
       "  </tbody>\n",
       "</table>\n",
       "</div>"
      ],
      "text/plain": [
       "     Month  Cupcake: (Worldwide)\n",
       "0  2004-01                     5\n",
       "1  2004-02                     6\n",
       "2  2004-03                     6\n",
       "3  2004-04                     5\n",
       "4  2004-05                     6"
      ]
     },
     "execution_count": 31,
     "metadata": {},
     "output_type": "execute_result"
    }
   ],
   "source": [
    "# Take a glimpse of the DataFrame to determine the best\n",
    "# option for visualization\n",
    "\n",
    "df.head()"
   ]
  },
  {
   "cell_type": "code",
   "execution_count": 32,
   "metadata": {},
   "outputs": [],
   "source": [
    "# Split month and year into seperate columns\n",
    "\n",
    "df[['Year','Month']] = df['Month'].str.rsplit('-',expand=True)"
   ]
  },
  {
   "cell_type": "code",
   "execution_count": 33,
   "metadata": {},
   "outputs": [
    {
     "data": {
      "text/html": [
       "<div>\n",
       "<style scoped>\n",
       "    .dataframe tbody tr th:only-of-type {\n",
       "        vertical-align: middle;\n",
       "    }\n",
       "\n",
       "    .dataframe tbody tr th {\n",
       "        vertical-align: top;\n",
       "    }\n",
       "\n",
       "    .dataframe thead th {\n",
       "        text-align: right;\n",
       "    }\n",
       "</style>\n",
       "<table border=\"1\" class=\"dataframe\">\n",
       "  <thead>\n",
       "    <tr style=\"text-align: right;\">\n",
       "      <th></th>\n",
       "      <th>Month</th>\n",
       "      <th>Cupcake: (Worldwide)</th>\n",
       "      <th>Year</th>\n",
       "    </tr>\n",
       "  </thead>\n",
       "  <tbody>\n",
       "    <tr>\n",
       "      <td>0</td>\n",
       "      <td>01</td>\n",
       "      <td>5</td>\n",
       "      <td>2004</td>\n",
       "    </tr>\n",
       "    <tr>\n",
       "      <td>1</td>\n",
       "      <td>02</td>\n",
       "      <td>6</td>\n",
       "      <td>2004</td>\n",
       "    </tr>\n",
       "    <tr>\n",
       "      <td>2</td>\n",
       "      <td>03</td>\n",
       "      <td>6</td>\n",
       "      <td>2004</td>\n",
       "    </tr>\n",
       "    <tr>\n",
       "      <td>3</td>\n",
       "      <td>04</td>\n",
       "      <td>5</td>\n",
       "      <td>2004</td>\n",
       "    </tr>\n",
       "    <tr>\n",
       "      <td>4</td>\n",
       "      <td>05</td>\n",
       "      <td>6</td>\n",
       "      <td>2004</td>\n",
       "    </tr>\n",
       "  </tbody>\n",
       "</table>\n",
       "</div>"
      ],
      "text/plain": [
       "  Month  Cupcake: (Worldwide)  Year\n",
       "0    01                     5  2004\n",
       "1    02                     6  2004\n",
       "2    03                     6  2004\n",
       "3    04                     5  2004\n",
       "4    05                     6  2004"
      ]
     },
     "execution_count": 33,
     "metadata": {},
     "output_type": "execute_result"
    }
   ],
   "source": [
    "# Confirm data looks okay\n",
    "\n",
    "df.head()"
   ]
  },
  {
   "cell_type": "code",
   "execution_count": 62,
   "metadata": {},
   "outputs": [
    {
     "data": {
      "text/plain": [
       "<matplotlib.axes._subplots.AxesSubplot at 0x21741f63308>"
      ]
     },
     "execution_count": 62,
     "metadata": {},
     "output_type": "execute_result"
    },
    {
     "data": {
      "image/png": "[encoded data removed]",
      "text/plain": [
       "<Figure size 432x288 with 1 Axes>"
      ]
     },
     "metadata": {
      "needs_background": "light"
     },
     "output_type": "display_data"
    }
   ],
   "source": [
    "# Plot cupcake by month as bar plot using seaborn\n",
    "\n",
    "plot_1 = sns.barplot(x='Month', y='Cupcake: (Worldwide)', data=df)\n",
    "plot_1"
   ]
  },
  {
   "cell_type": "code",
   "execution_count": 115,
   "metadata": {},
   "outputs": [
    {
     "data": {
      "image/png": "[encoded data removed]",
      "text/plain": [
       "<Figure size 432x288 with 1 Axes>"
      ]
     },
     "metadata": {
      "needs_background": "light"
     },
     "output_type": "display_data"
    }
   ],
   "source": [
    "# Plot cupcake by year as scatterplot using matplotlib\n",
    "\n",
    "plot_2 = plt.scatter(x=df['Year'], y=df['Cupcake: (Worldwide)'], alpha=0.2)\n",
    "plt.title('Scatterplot of Cupcake by Year')\n",
    "plt.xlabel('Year')\n",
    "plt.xticks(rotation=90)\n",
    "plt.ylabel('Cupcake')\n",
    "plt.show()"
   ]
  },
  {
   "cell_type": "code",
   "execution_count": 46,
   "metadata": {},
   "outputs": [],
   "source": [
    "# Load in other csv file as DataFrame\n",
    "\n",
    "df1 = pd.read_csv('geomap.csv', header=1)"
   ]
  },
  {
   "cell_type": "code",
   "execution_count": 47,
   "metadata": {},
   "outputs": [
    {
     "data": {
      "text/html": [
       "<div>\n",
       "<style scoped>\n",
       "    .dataframe tbody tr th:only-of-type {\n",
       "        vertical-align: middle;\n",
       "    }\n",
       "\n",
       "    .dataframe tbody tr th {\n",
       "        vertical-align: top;\n",
       "    }\n",
       "\n",
       "    .dataframe thead th {\n",
       "        text-align: right;\n",
       "    }\n",
       "</style>\n",
       "<table border=\"1\" class=\"dataframe\">\n",
       "  <thead>\n",
       "    <tr style=\"text-align: right;\">\n",
       "      <th></th>\n",
       "      <th>Country</th>\n",
       "      <th>Cupcake: (1/1/04 - 11/1/19)</th>\n",
       "    </tr>\n",
       "  </thead>\n",
       "  <tbody>\n",
       "    <tr>\n",
       "      <td>0</td>\n",
       "      <td>Falkland Islands (Islas Malvinas)</td>\n",
       "      <td>NaN</td>\n",
       "    </tr>\n",
       "    <tr>\n",
       "      <td>1</td>\n",
       "      <td>Brunei</td>\n",
       "      <td>NaN</td>\n",
       "    </tr>\n",
       "    <tr>\n",
       "      <td>2</td>\n",
       "      <td>Jersey</td>\n",
       "      <td>NaN</td>\n",
       "    </tr>\n",
       "    <tr>\n",
       "      <td>3</td>\n",
       "      <td>Guernsey</td>\n",
       "      <td>NaN</td>\n",
       "    </tr>\n",
       "    <tr>\n",
       "      <td>4</td>\n",
       "      <td>Isle of Man</td>\n",
       "      <td>NaN</td>\n",
       "    </tr>\n",
       "    <tr>\n",
       "      <td>5</td>\n",
       "      <td>Bermuda</td>\n",
       "      <td>NaN</td>\n",
       "    </tr>\n",
       "    <tr>\n",
       "      <td>6</td>\n",
       "      <td>Curaçao</td>\n",
       "      <td>NaN</td>\n",
       "    </tr>\n",
       "    <tr>\n",
       "      <td>7</td>\n",
       "      <td>Belize</td>\n",
       "      <td>NaN</td>\n",
       "    </tr>\n",
       "    <tr>\n",
       "      <td>8</td>\n",
       "      <td>Trinidad &amp; Tobago</td>\n",
       "      <td>NaN</td>\n",
       "    </tr>\n",
       "    <tr>\n",
       "      <td>9</td>\n",
       "      <td>Australia</td>\n",
       "      <td>100.0</td>\n",
       "    </tr>\n",
       "    <tr>\n",
       "      <td>10</td>\n",
       "      <td>Barbados</td>\n",
       "      <td>NaN</td>\n",
       "    </tr>\n",
       "    <tr>\n",
       "      <td>11</td>\n",
       "      <td>New Zealand</td>\n",
       "      <td>98.0</td>\n",
       "    </tr>\n",
       "    <tr>\n",
       "      <td>12</td>\n",
       "      <td>St. Lucia</td>\n",
       "      <td>NaN</td>\n",
       "    </tr>\n",
       "    <tr>\n",
       "      <td>13</td>\n",
       "      <td>Gibraltar</td>\n",
       "      <td>NaN</td>\n",
       "    </tr>\n",
       "    <tr>\n",
       "      <td>14</td>\n",
       "      <td>Guam</td>\n",
       "      <td>NaN</td>\n",
       "    </tr>\n",
       "    <tr>\n",
       "      <td>15</td>\n",
       "      <td>British Virgin Islands</td>\n",
       "      <td>NaN</td>\n",
       "    </tr>\n",
       "    <tr>\n",
       "      <td>16</td>\n",
       "      <td>St. Kitts &amp; Nevis</td>\n",
       "      <td>NaN</td>\n",
       "    </tr>\n",
       "    <tr>\n",
       "      <td>17</td>\n",
       "      <td>Bahamas</td>\n",
       "      <td>NaN</td>\n",
       "    </tr>\n",
       "    <tr>\n",
       "      <td>18</td>\n",
       "      <td>American Samoa</td>\n",
       "      <td>NaN</td>\n",
       "    </tr>\n",
       "    <tr>\n",
       "      <td>19</td>\n",
       "      <td>Philippines</td>\n",
       "      <td>87.0</td>\n",
       "    </tr>\n",
       "  </tbody>\n",
       "</table>\n",
       "</div>"
      ],
      "text/plain": [
       "                              Country  Cupcake: (1/1/04 - 11/1/19)\n",
       "0   Falkland Islands (Islas Malvinas)                          NaN\n",
       "1                              Brunei                          NaN\n",
       "2                              Jersey                          NaN\n",
       "3                            Guernsey                          NaN\n",
       "4                         Isle of Man                          NaN\n",
       "5                             Bermuda                          NaN\n",
       "6                             Curaçao                          NaN\n",
       "7                              Belize                          NaN\n",
       "8                   Trinidad & Tobago                          NaN\n",
       "9                           Australia                        100.0\n",
       "10                           Barbados                          NaN\n",
       "11                        New Zealand                         98.0\n",
       "12                          St. Lucia                          NaN\n",
       "13                          Gibraltar                          NaN\n",
       "14                               Guam                          NaN\n",
       "15             British Virgin Islands                          NaN\n",
       "16                  St. Kitts & Nevis                          NaN\n",
       "17                            Bahamas                          NaN\n",
       "18                     American Samoa                          NaN\n",
       "19                        Philippines                         87.0"
      ]
     },
     "execution_count": 47,
     "metadata": {},
     "output_type": "execute_result"
    }
   ],
   "source": [
    "# Take a glimpse of the DataFrame (20) to determine the best\n",
    "# option for visualization\n",
    "\n",
    "df1.head(20)"
   ]
  },
  {
   "cell_type": "code",
   "execution_count": 48,
   "metadata": {},
   "outputs": [
    {
     "data": {
      "text/plain": [
       "(250, 2)"
      ]
     },
     "execution_count": 48,
     "metadata": {},
     "output_type": "execute_result"
    }
   ],
   "source": [
    "# Check total number of observations/rows\n",
    "\n",
    "df1.shape"
   ]
  },
  {
   "cell_type": "code",
   "execution_count": 49,
   "metadata": {},
   "outputs": [
    {
     "data": {
      "text/plain": [
       "Country                          0\n",
       "Cupcake: (1/1/04 - 11/1/19)    195\n",
       "dtype: int64"
      ]
     },
     "execution_count": 49,
     "metadata": {},
     "output_type": "execute_result"
    }
   ],
   "source": [
    "# It looks like this DataFrame has quite a few missing values\n",
    "\n",
    "df1.isnull().sum()"
   ]
  },
  {
   "cell_type": "code",
   "execution_count": 50,
   "metadata": {},
   "outputs": [],
   "source": [
    "# Drop rows with NA values \n",
    "\n",
    "df1.dropna(inplace=True)"
   ]
  },
  {
   "cell_type": "code",
   "execution_count": 51,
   "metadata": {},
   "outputs": [
    {
     "data": {
      "text/plain": [
       "(55, 2)"
      ]
     },
     "execution_count": 51,
     "metadata": {},
     "output_type": "execute_result"
    }
   ],
   "source": [
    "# Check total observations dropped\n",
    "\n",
    "df1.shape"
   ]
  },
  {
   "cell_type": "code",
   "execution_count": 94,
   "metadata": {},
   "outputs": [
    {
     "data": {
      "text/plain": [
       "Text(0.5, 1.0, 'Cupcake by Country (1/1/04 - 11/1/19)')"
      ]
     },
     "execution_count": 94,
     "metadata": {},
     "output_type": "execute_result"
    },
    {
     "data": {
      "image/png": "[encoded data removed]",
      "text/plain": [
       "<Figure size 432x288 with 1 Axes>"
      ]
     },
     "metadata": {
      "needs_background": "light"
     },
     "output_type": "display_data"
    }
   ],
   "source": [
    "# Below is a line plot using matplotlib\n",
    "\n",
    "fig = plt.figure()\n",
    "ax = fig.add_subplot()\n",
    "ax.plot(df1['Country'], df1['Cupcake: (1/1/04 - 11/1/19)'])\n",
    "ax.set_xticklabels(df1['Country'],rotation=90, fontsize='x-small')\n",
    "ax.set_xlabel('Country')\n",
    "ax.set_ylabel('Cupcake: (1/1/04 - 11/1/19)')\n",
    "ax.set_title('Cupcake by Country (1/1/04 - 11/1/19)')"
   ]
  },
  {
   "cell_type": "code",
   "execution_count": 83,
   "metadata": {},
   "outputs": [
    {
     "data": {
      "image/png": "[encoded data removed]",
      "text/plain": [
       "<Figure size 432x288 with 1 Axes>"
      ]
     },
     "metadata": {
      "needs_background": "light"
     },
     "output_type": "display_data"
    }
   ],
   "source": [
    "# Bar plot of total Cupcake within specified dates per country\n",
    "\n",
    "plot3 = sns.barplot(x='Country', y='Cupcake: (1/1/04 - 11/1/19)', data=df1, orient='v')\n",
    "plot3 = plt.xticks(rotation=90, fontsize='x-small')"
   ]
  }
 ],
 "metadata": {
  "kernelspec": {
   "display_name": "Python 3",
   "language": "python",
   "name": "python3"
  },
  "language_info": {
   "codemirror_mode": {
    "name": "ipython",
    "version": 3
   },
   "file_extension": ".py",
   "mimetype": "text/x-python",
   "name": "python",
   "nbconvert_exporter": "python",
   "pygments_lexer": "ipython3",
   "version": "3.7.7"
  }
 },
 "nbformat": 4,
 "nbformat_minor": 2
}
